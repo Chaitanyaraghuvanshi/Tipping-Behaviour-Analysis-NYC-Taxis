{
 "cells": [
  {
   "cell_type": "markdown",
   "id": "b7d9555e",
   "metadata": {},
   "source": [
    "## TLC Monthly Datasets"
   ]
  },
  {
   "cell_type": "markdown",
   "id": "4098d33d",
   "metadata": {},
   "source": [
    "Firstly we retrieve the monthly datasets from the url and store it in our raw data folder"
   ]
  },
  {
   "cell_type": "code",
   "execution_count": 1,
   "id": "2879d868",
   "metadata": {},
   "outputs": [],
   "source": [
    "from urllib.request import urlretrieve\n",
    "import os\n",
    "\n",
    "# from the current `notebooks` directory, go back one level to the MAST30034 Project1 directory\n",
    "output_relative_dir = '../data/raw/'\n",
    "\n",
    "# check if it exists as it makedir will raise an error if it does exist\n",
    "if not os.path.exists(output_relative_dir):\n",
    "    os.makedirs(output_relative_dir)\n",
    "\n",
    "# now, for each type of data set we will need, we will create the paths\n",
    "for target_dir in ('train_data', 'test_data', 'taxi_zones', 'weather_data'): \n",
    "    if not os.path.exists(output_relative_dir + target_dir):\n",
    "        os.makedirs(output_relative_dir + target_dir)"
   ]
  },
  {
   "cell_type": "markdown",
   "id": "999c7da3",
   "metadata": {},
   "source": [
    "Loading training (2018 Jan-Jun) and testing (2019 Jan-Jun) data first into raw,"
   ]
  },
  {
   "cell_type": "code",
   "execution_count": 2,
   "id": "7ec6a58f",
   "metadata": {},
   "outputs": [],
   "source": [
    "YEARS = ['2018','2019']\n",
    "MONTHS = range(1, 7)\n",
    "URL_TEMPLATE = \"https://d37ci6vzurychx.cloudfront.net/trip-data/yellow_tripdata_\"#year-month.parquet\n",
    "\n",
    "# data output directory is `data/raw/train_data`\n",
    "tlc_output_dir = [output_relative_dir + 'train_data',output_relative_dir + 'test_data']\n",
    "i=0 # index for 'tlc_output_dir'\n",
    "for YEAR in YEARS:\n",
    "    for month in MONTHS:\n",
    "        month = str(month).zfill(2) \n",
    "        # generate url\n",
    "        url = f'{URL_TEMPLATE}{YEAR}-{month}.parquet'\n",
    "        # generate output location and filename\n",
    "        output_dir = f\"{tlc_output_dir[i]}/{YEAR}-{month}.parquet\"\n",
    "        # download\n",
    "        urlretrieve(url, output_dir) \n",
    "    i+=1"
   ]
  }
 ],
 "metadata": {
  "kernelspec": {
   "display_name": "Python 3 (ipykernel)",
   "language": "python",
   "name": "python3"
  },
  "language_info": {
   "codemirror_mode": {
    "name": "ipython",
    "version": 3
   },
   "file_extension": ".py",
   "mimetype": "text/x-python",
   "name": "python",
   "nbconvert_exporter": "python",
   "pygments_lexer": "ipython3",
   "version": "3.9.7"
  }
 },
 "nbformat": 4,
 "nbformat_minor": 5
}
